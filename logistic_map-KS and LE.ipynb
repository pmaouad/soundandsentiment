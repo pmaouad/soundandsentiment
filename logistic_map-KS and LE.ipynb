{
 "cells": [
  {
   "cell_type": "code",
   "execution_count": 85,
   "metadata": {
    "collapsed": false
   },
   "outputs": [
    {
     "name": "stdout",
     "output_type": "stream",
     "text": [
      "pyunicorn: Package netCDF4 could not be loaded. Some functionality in class Data might not be available!\n",
      "pyunicorn: Package netCDF4 could not be loaded. Some functionality in class NetCDFDictionary might not be available!\n",
      "Populating the interactive namespace from numpy and matplotlib\n"
     ]
    }
   ],
   "source": [
    "import vmo \n",
    "import vmo.analysis as van\n",
    "import vmo.analysis.segmentation as vse\n",
    "import csv\n",
    "import numpy as np\n",
    "np.set_printoptions(threshold='nan')\n",
    "\n",
    "from collections import Counter\n",
    "\n",
    "import math\n",
    "import entropy\n",
    "import matplotlib as mpl \n",
    "\n",
    "import matplotlib.pyplot as plt\n",
    "\n",
    "import matplotlib.cm as cm\n",
    "from matplotlib import patches\n",
    "import plotly.plotly as py\n",
    "\n",
    "\n",
    "import librosa\n",
    "\n",
    "from nolds import lyap_e, lyap_r, corr_dim\n",
    "\n",
    "import scipy as sc\n",
    "import scipy.sparse as sp\n",
    "from scipy.sparse import spdiags\n",
    "import scipy.stats\n",
    "\n",
    "\n",
    "import pylab \n",
    "import scipy.weave\n",
    "import scipy.io.wavfile as wav\n",
    "\n",
    "import operator\n",
    "\n",
    "from pyunicorn.timeseries import RecurrencePlot, RecurrenceNetwork\n",
    "\n",
    "#from python_speech_features import mfcc\n",
    "#from python_speech_features import logfbank\n",
    "\n",
    "from pylab import * # show, scatter, xlim, ylim\n",
    "from random import randint\n",
    "from random import randrange\n",
    "\n",
    "import warnings\n",
    "warnings.filterwarnings('ignore')\n",
    "warnings.catch_warnings()\n",
    "\n",
    "%matplotlib inline\n",
    "%pylab inline"
   ]
  },
  {
   "cell_type": "code",
   "execution_count": 363,
   "metadata": {
    "collapsed": false
   },
   "outputs": [
    {
     "name": "stdout",
     "output_type": "stream",
     "text": [
      "100000\n"
     ]
    }
   ],
   "source": [
    "# subsection of the bifurcation diagram of the logistic map for for 3.4 <= R <= 3.55\n",
    "N = 1\n",
    "timeseries = [] # list of pairs (r,x)\n",
    "\n",
    "#R=3.741  # bifurcation parameter\n",
    "ts = np.empty(N)\n",
    "ts[0] = 0.7\n",
    "\n",
    "rs = np.linspace(2.8, 4, 100000) # 100 R values between 3.4 and 3.55\n",
    "for R in rs:\n",
    "    for i in range (N):\n",
    "        x = ts[i-1]\n",
    "        ts[i] = R * x * (1-x)\n",
    "        timeseries.append([R, x])\n",
    "\n",
    "print len(timeseries)\n"
   ]
  },
  {
   "cell_type": "code",
   "execution_count": 364,
   "metadata": {
    "collapsed": false
   },
   "outputs": [
    {
     "data": {
      "image/png": "[encoded data removed]",
      "text/plain": [
       "<matplotlib.figure.Figure at 0x12214a110>"
      ]
     },
     "metadata": {},
     "output_type": "display_data"
    },
    {
     "name": "stdout",
     "output_type": "stream",
     "text": [
      "(100000, 2)\n"
     ]
    }
   ],
   "source": [
    "TS = np.array(timeseries)\n",
    "\n",
    "pylab.plot(TS[:,0], TS[:,1], '.') # TS[:,0] are R values. TS[:,1] are x values\n",
    "\n",
    "print TS.shape\n",
    "#print TS[1:100,1]"
   ]
  },
  {
   "cell_type": "code",
   "execution_count": 463,
   "metadata": {
    "collapsed": false
   },
   "outputs": [
    {
     "name": "stdout",
     "output_type": "stream",
     "text": [
      "(1000,)\n"
     ]
    },
    {
     "data": {
      "text/plain": [
       "<matplotlib.text.Text at 0x13b688c90>"
      ]
     },
     "execution_count": 463,
     "metadata": {},
     "output_type": "execute_result"
    },
    {
     "data": {
      "image/png": "[encoded data removed]",
      "text/plain": [
       "<matplotlib.figure.Figure at 0x13afae6d0>"
      ]
     },
     "metadata": {},
     "output_type": "display_data"
    }
   ],
   "source": [
    "# time series of logistic map with transients discarded\n",
    "n = 1000 # nb of iterations, length of time series\n",
    "\n",
    "#x0 = 0.00079\n",
    "#r=3.82842712 \n",
    "\n",
    "def logisticmap(x0, r, T):  \n",
    "    r = float(r)\n",
    "   \n",
    "    ts = np.empty(T)\n",
    "    ts[0] = x0 \n",
    "\n",
    "    for i in range (1,T):\n",
    "        x = ts[i-1]\n",
    "        ts[i] = r * x * (1-x)        \n",
    "    return ts\n",
    "\n",
    "r = 3.8284\n",
    "x0 = 0.5\n",
    "T = 1000\n",
    "time_series = logisticmap(x0,r, T)\n",
    "print time_series.shape\n",
    "\n",
    "pylab.plot(time_series, 'g')\n",
    "plt.xlabel('n')\n",
    "plt.ylabel('x')\n"
   ]
  },
  {
   "cell_type": "code",
   "execution_count": 464,
   "metadata": {
    "collapsed": false
   },
   "outputs": [
    {
     "name": "stdout",
     "output_type": "stream",
     "text": [
      "Calculating recurrence plot at fixed threshold...\n",
      "Calculating the supremum distance matrix...\n",
      "Recurrence rate: 0.250076\n",
      "Determinism: 0.94448280846\n",
      "Laminarity: 0.00106767969609\n"
     ]
    },
    {
     "data": {
      "image/png": "[encoded data removed]",
      "text/plain": [
       "<matplotlib.figure.Figure at 0x13cde5490>"
      ]
     },
     "metadata": {},
     "output_type": "display_data"
    }
   ],
   "source": [
    "# RP from pyunicorn\n",
    "rp = RecurrencePlot(time_series, dim=3, threshold = 0.05)\n",
    "#  Show the recurrence plot\n",
    "pylab.matshow(rp.recurrence_matrix())\n",
    "pylab.xlabel(\"$n$\")\n",
    "pylab.ylabel(\"$n$\")\n",
    "\n",
    "\n",
    "print \"Recurrence rate:\", rp.recurrence_rate()\n",
    "\n",
    "#  Calculate some standard RQA measures\n",
    "DET = rp.determinism(l_min=2)\n",
    "LAM = rp.laminarity(v_min=2)\n",
    "\n",
    "print \"Determinism:\", DET\n",
    "print \"Laminarity:\", LAM"
   ]
  },
  {
   "cell_type": "code",
   "execution_count": 465,
   "metadata": {
    "collapsed": true
   },
   "outputs": [],
   "source": [
    "# time series standard embedding \n",
    "def timeseries_embedding(series=[], m=3, time_delay=1):    \n",
    "    m = int(m) # m = embedding dimension = nb of columns in the embedded time series matrix\n",
    "    time_delay = int(time_delay)\n",
    "    \n",
    "    n = len(series) \n",
    "    \n",
    "    nb_vectors = n - (m-1) * time_delay # nb of vectors in the embedded time series matrix\n",
    "    embedded = np.empty((nb_vectors, m), dtype=\"float32\") # embedded series has nb_vectors rows and m columns\n",
    "\n",
    "    #print embedded.shape\n",
    "    for j in range(0, m):\n",
    "        idx = j * time_delay\n",
    "        \n",
    "        for k in range(0,nb_vectors):\n",
    "            embedded[k,j] = series[idx]\n",
    "            idx += 1\n",
    "    return embedded"
   ]
  },
  {
   "cell_type": "code",
   "execution_count": 466,
   "metadata": {
    "collapsed": false
   },
   "outputs": [],
   "source": [
    "# embedding of time series for the following parameters:\n",
    "#r = 3.8284\n",
    "#x0 = 0.7\n",
    "#T = 1000\n",
    "\n",
    "dim = 3\n",
    "tau = 1\n",
    "\n",
    "embedded_timeseries =  timeseries_embedding(time_series, dim, tau)\n",
    "#print embedded_timeseries.shape"
   ]
  },
  {
   "cell_type": "code",
   "execution_count": 467,
   "metadata": {
    "collapsed": false
   },
   "outputs": [
    {
     "name": "stdout",
     "output_type": "stream",
     "text": [
      "0.01\n"
     ]
    }
   ],
   "source": [
    "r_threshold = (0, 1.01, 0.01)\n",
    "\n",
    "threshold = vmo.find_threshold(embedded_timeseries, r=r_threshold, dim = dim)\n",
    "print(threshold[0][1])"
   ]
  },
  {
   "cell_type": "code",
   "execution_count": 468,
   "metadata": {
    "collapsed": false
   },
   "outputs": [
    {
     "data": {
      "image/png": "[encoded data removed]",
      "text/plain": [
       "<matplotlib.figure.Figure at 0x13ac90390>"
      ]
     },
     "metadata": {},
     "output_type": "display_data"
    }
   ],
   "source": [
    "ideal_t = threshold[0][1]\n",
    "x_t = [i[1] for i in threshold[1]]\n",
    "y_t = [i[0] for i in threshold[1]]\n",
    "\n",
    "plt.figure(figsize=(12,2))\n",
    "plt.plot(x_t, y_t, linewidth = 2)\n",
    "plt.hold('on')\n",
    "plt.vlines(ideal_t, 0.0, max(y_t), colors = 'k',linestyle = 'dashed',linewidth = 2)\n",
    "plt.grid('on')\n",
    "plt.legend(['IR values', 'Selected threshold'], loc=1)\n",
    "plt.title('Threshold value versus Information Rate', fontsize = 18)\n",
    "plt.xlabel('Threshold Value',fontsize = 14)\n",
    "plt.ylabel('Summed IR', fontsize = 14)\n",
    "plt.tight_layout()"
   ]
  },
  {
   "cell_type": "code",
   "execution_count": 469,
   "metadata": {
    "collapsed": false
   },
   "outputs": [
    {
     "data": {
      "image/png": "[encoded data removed]",
      "text/plain": [
       "<matplotlib.figure.Figure at 0x120c2d650>"
      ]
     },
     "metadata": {},
     "output_type": "display_data"
    }
   ],
   "source": [
    "ts_vmo = vmo.build_oracle(embedded_timeseries, flag='a', threshold=ideal_t, dim=dim)\n",
    "\n",
    "methods = ['sfx', 'lrs', 'rsfx']\n",
    "\n",
    "#print(cqt_stack.T)\n",
    "\n",
    "plt.figure(figsize = (12,4))\n",
    "for i,m in enumerate(methods):\n",
    "    recurrence_vmo = van.create_selfsim(ts_vmo, method=m)\n",
    "    \n",
    "    plt.subplot(1,3,i+1)\n",
    "    plt.imshow(recurrence_vmo, interpolation='nearest', aspect='auto', cmap='Greys')\n",
    "    \n",
    "    plt.title(m, fontsize=14)\n",
    "plt.tight_layout()"
   ]
  },
  {
   "cell_type": "code",
   "execution_count": 470,
   "metadata": {
    "collapsed": false
   },
   "outputs": [
    {
     "name": "stdout",
     "output_type": "stream",
     "text": [
      "RR = 0.00274496889571\n",
      "DET= 0.997073884418\n",
      "Average diagonal line length= 22.7166666667\n",
      "Longest Diagonal Length (L_max) 219.0\n",
      "Divergence (DIV)= 0.00456621004566\n",
      "Entropy diagonal lines (L_entr): 0.00236646153148\n",
      "Laminarity (LAM)= 0.0\n",
      "Trapping Time: Average Vertical Line Length (TT)= NA\n",
      "Longest Vertical Line 1.0\n",
      "Entropy vertical lines (V_entr): 0.0273116379745\n",
      "RATIO: (DET/RR)= 363.236860708\n",
      "LAM / DET= 0.0\n",
      "Average White Vertical Line Length (W): 268.298487304\n",
      "Longest White Vertical Line Length (W_max): 998.0\n",
      "Entropy white vertical lines (W_entr): 0.0647550059904\n"
     ]
    },
    {
     "data": {
      "image/png": "[encoded data removed]",
      "text/plain": [
       "<matplotlib.figure.Figure at 0x13e562690>"
      ]
     },
     "metadata": {},
     "output_type": "display_data"
    }
   ],
   "source": [
    "recurrence_vmo = van.create_selfsim(ts_vmo, method='lrs')\n",
    "\n",
    "plt.figure(figsize = (6,4))\n",
    "plt.imshow(recurrence_vmo, interpolation='nearest', aspect='auto', cmap='Blues')\n",
    "plt.title('lrs', fontsize=14)\n",
    "\n",
    "\n",
    "####################################################################\n",
    "\n",
    "# RECURRENCE RATE\n",
    "ln= len(recurrence_vmo)\n",
    "RR = (np.sum(recurrence_vmo))/float(ln*ln)\n",
    "\n",
    "####################################################################\n",
    "# DIAGONALS\n",
    "newd = {}\n",
    "mat = np.zeros((recurrence_vmo.shape[0]*2+1,recurrence_vmo.shape[1]))\n",
    "\n",
    "for ii in range(-len(recurrence_vmo), len(recurrence_vmo)):    \n",
    "    newd[ii]= np.diagonal(recurrence_vmo, offset = ii) \n",
    " \n",
    "for i in range (-len(recurrence_vmo), len(recurrence_vmo)):   \n",
    "    for j in range(len(newd[i])):\n",
    "        mat[i+len(recurrence_vmo),j] = newd[i][j]    \n",
    " \n",
    "diag_idx = 0\n",
    "diagonals = np.zeros(recurrence_vmo.size)\n",
    "for drow in range(0, len(mat)):    \n",
    "    diag_sum = 0\n",
    "    for dcol in range(0, mat.shape[1]):\n",
    "        if (mat[drow,dcol] == 1):\n",
    "            diag_sum += 1           \n",
    "            \n",
    "        if (mat[drow,dcol] == 0):\n",
    "            if (diag_sum > 0):\n",
    "                diagonals[diag_idx] = diag_sum\n",
    "                diag_idx += 1\n",
    "                diag_sum = 0\n",
    "    if (diag_sum > 0):\n",
    "        diagonals[diag_idx] = diag_sum;\n",
    "        diag_idx += 1        \n",
    "        \n",
    "dia_cnt = 0\n",
    "dia_sum = 0\n",
    "for indx in range(0, len(diagonals)):\n",
    "    if (diagonals[indx] >= 2):\n",
    "        dia_sum += diagonals[indx]\n",
    "        dia_cnt += 1\n",
    "        \n",
    "\n",
    "\n",
    "if (dia_cnt > 0):\n",
    "    av_diag = dia_sum / dia_cnt\n",
    "else: \n",
    "    av_diag = 'NA'\n",
    "\n",
    "\n",
    "####################################################################\n",
    "# DETERMINISM      \n",
    "nume = dia_sum #np.sum(L)\n",
    "denom = np.sum(recurrence_vmo)\n",
    "if (denom > 0):\n",
    "    DET =  nume / denom\n",
    "else: \n",
    "    DET = \"NA\"\n",
    "    print DET\n",
    "\n",
    "  \n",
    "    \n",
    "####################################################################\n",
    "#find vertical lines\n",
    "idx = 0\n",
    "vertical = np.zeros(recurrence_vmo.size)\n",
    "for c in range(0, recurrence_vmo.shape[1]):       \n",
    "    s = 0\n",
    "    for r in range(0, len(recurrence_vmo)):\n",
    "        if (recurrence_vmo[r,c] == 1):\n",
    "            s += 1           \n",
    "            \n",
    "        if (recurrence_vmo[r,c] == 0):\n",
    "            if (s > 0):\n",
    "                vertical[idx] = s\n",
    "                idx += 1\n",
    "                s = 0\n",
    "    if (s > 0):\n",
    "        vertical[idx] = s;\n",
    "        idx += 1\n",
    "                      \n",
    "    \n",
    "vcnt = 0\n",
    "vsum = 0\n",
    "for V in range(0, len(vertical)):\n",
    "    if (vertical[V] >= 2):\n",
    "        vsum += vertical[V]\n",
    "        vcnt += 1\n",
    "      \n",
    " \n",
    "        \n",
    "####################################################################\n",
    "# LAMINARITY\n",
    "\n",
    "if (np.sum(recurrence_vmo) != 0):\n",
    "    LAM = vsum / np.sum(recurrence_vmo)\n",
    "else:\n",
    "    LAM = 'NA'\n",
    "\n",
    "\n",
    "\n",
    "\n",
    "####################################################################\n",
    "# TRAPPING TIME\n",
    "if (vcnt > 0):\n",
    "    TT = vsum /vcnt\n",
    "else: \n",
    "    TT = 'NA'\n",
    "\n",
    "####################################################################\n",
    "# find white vertical lines\n",
    "indx = 0\n",
    "white = np.zeros(recurrence_vmo.size)\n",
    "for col in range(0, recurrence_vmo.shape[1]):    \n",
    "    sm = 0\n",
    "    for row in range(0, len(recurrence_vmo)):\n",
    "        if (recurrence_vmo[row,col] == 0):\n",
    "            sm += 1     \n",
    "        if (recurrence_vmo[row,col] == 1):\n",
    "            if (sm > 0):\n",
    "                white[indx] = sm\n",
    "                indx += 1\n",
    "                sm = 0\n",
    "    if (sm > 0):\n",
    "        white[indx] = sm;\n",
    "        indx += 1\n",
    "        \n",
    "wcnt = 0\n",
    "wsum = 0\n",
    "for w in range(0, len(white)):\n",
    "    if (white[w] >= 2):\n",
    "        wsum += white[w]\n",
    "        wcnt += 1\n",
    "\n",
    "if (wcnt > 0):\n",
    "    W = wsum /wcnt\n",
    "else: \n",
    "    W = 'NA'\n",
    "    \n",
    "    \n",
    "####################################################################\n",
    "\n",
    "W_max = white.max()  # longest white vertical line\n",
    "\n",
    "\n",
    "####################################################################\n",
    "\n",
    "# Longest Diagonal Length without the Line of Identity (LOI):\n",
    "newdiag = np.copy(diagonals) # copy array into array newdiag\n",
    "max_idx= np.argmax(newdiag)  # get the index of the LOI\n",
    "\n",
    "newdiag[max_idx] = -1 # remove the index of LOI\n",
    "L_max = newdiag.max()  # get the second longest diagonal\n",
    "\n",
    "\n",
    "####################################################################\n",
    "\n",
    "# Divergence\n",
    "\n",
    "if (L_max > 0):\n",
    "    DIV = np.divide(1,L_max)\n",
    "else:\n",
    "    DIV = 'NA'\n",
    "####################################################################\n",
    "\n",
    "# Longest Vertical Line\n",
    "V_max = vertical.max()\n",
    "\n",
    "####################################################################\n",
    "\n",
    "# DET / RR\n",
    "\n",
    "if (RR > 0):\n",
    "    DET_RR_ratio = np.divide(DET, RR)\n",
    "else:\n",
    "    RR = 'NA'\n",
    "\n",
    "\n",
    "\n",
    "####################################################################\n",
    "\n",
    "\n",
    "####################################################################\n",
    "# LAM / DET\n",
    "\n",
    "if (DET > 0): \n",
    "    LAM_DET_ratio = np.divide(LAM, DET)\n",
    "else:\n",
    "    LAM_DET_ratio = 'NA'\n",
    "\n",
    "####################################################################\n",
    "\n",
    "# Entropy of diagonal line lengths\n",
    "u, inv = np.unique(diagonals, return_inverse=True)\n",
    "n = np.bincount(inv)\n",
    "\n",
    "L_entr = 0\n",
    "\n",
    "for i in range(0, len(n)):\n",
    "    L_entr += - (float(n[i])/float(len(diagonals))) * math.log(float(n[i])/float(len(diagonals)),2)\n",
    "\n",
    "#print entropy.shannon_entropy('diagonals')\n",
    "####################################################################\n",
    "\n",
    "# Entropy of verticals\n",
    "uv, vinv = np.unique(vertical, return_inverse=True)\n",
    "nv = np.bincount(vinv)\n",
    "\n",
    "V_entr = 0\n",
    "\n",
    "for iv in range(0, len(nv)):\n",
    "    V_entr += - (float(nv[iv])/float(len(vertical))) * math.log(float(nv[iv])/float(len(vertical)),2)\n",
    "\n",
    "#shan = entropy.shannon_entropy('vertical')\n",
    "\n",
    "#print shan\n",
    "\n",
    "#print V_entr\n",
    "####################################################################\n",
    "\n",
    "# Entropy of white vertical lines\n",
    "w, winv = np.unique(white, return_inverse=True)\n",
    "wn = np.bincount(winv)\n",
    "\n",
    "W_entr = 0\n",
    "\n",
    "for w in range(0, len(wn)):\n",
    "    W_entr += - (float(wn[w])/float(len(white))) * math.log(float(wn[w])/float(len(white)),2)\n",
    "\n",
    "#white_shan = entropy.shannon_entropy('white')\n",
    "\n",
    "####################################################################\n",
    "\n",
    "\n",
    "print \"RR =\", RR\n",
    "print \"DET=\", DET\n",
    "print \"Average diagonal line length=\",  av_diag \n",
    "print \"Longest Diagonal Length (L_max)\", L_max\n",
    "print \"Divergence (DIV)=\", DIV\n",
    "print \"Entropy diagonal lines (L_entr):\", L_entr\n",
    "print \"Laminarity (LAM)=\", LAM\n",
    "print \"Trapping Time: Average Vertical Line Length (TT)=\", TT\n",
    "print \"Longest Vertical Line\", V_max\n",
    "print \"Entropy vertical lines (V_entr):\", V_entr\n",
    "print \"RATIO: (DET/RR)=\", DET_RR_ratio\n",
    "print \"LAM / DET=\", LAM_DET_ratio\n",
    "print \"Average White Vertical Line Length (W):\", W\n",
    "print \"Longest White Vertical Line Length (W_max):\", W_max\n",
    "print \"Entropy white vertical lines (W_entr):\", W_entr\n"
   ]
  },
  {
   "cell_type": "code",
   "execution_count": 246,
   "metadata": {
    "collapsed": false
   },
   "outputs": [],
   "source": [
    "# Function: Lyapunov exponents of time series obtained for different r values of the bifurcation points\n",
    "def lyapunov_exponent(timeseries, R):\n",
    "    lyap_exp = 0    \n",
    "    lyap_exp += log(abs(R - 2 * R * timeseries)).mean()\n",
    "    return lyap_exp\n"
   ]
  },
  {
   "cell_type": "code",
   "execution_count": 471,
   "metadata": {
    "collapsed": false
   },
   "outputs": [
    {
     "name": "stdout",
     "output_type": "stream",
     "text": [
      "KS=  2130.89587653\n"
     ]
    },
    {
     "data": {
      "image/png": "[encoded data removed]",
      "text/plain": [
       "<matplotlib.figure.Figure at 0x13d01c710>"
      ]
     },
     "metadata": {},
     "output_type": "display_data"
    }
   ],
   "source": [
    "# Plotting Lyapunov Exponent for the logistic map for 3.3 <= r <= 4.0\n",
    "\n",
    "rvalues = np.empty(0)\n",
    "rvalues = np.linspace(3.3, 4.0, 10000)\n",
    "bifr_len = len(rvalues)\n",
    "time_S = [] # list of [r, timeseries]\n",
    "le = np.zeros(len(rvalues))\n",
    "x0 = 0.8\n",
    "T = 1000\n",
    "\n",
    "idx = 0\n",
    "for b in range (0,bifr_len):\n",
    "    tseries = logisticmap(x0, rvalues[b], T)\n",
    "    time_S.append([rvalues[b], tseries]) #save r and corresponding timeseries\n",
    "    tseries = 0\n",
    "\n",
    "    \n",
    "for l in range(0,len(time_S)):\n",
    "    le[idx] = lyapunov_exponent(time_S[l][1], rvalues[l])    \n",
    "    idx += 1\n",
    "    \n",
    "\n",
    "# set up the plot\n",
    "plt.figure()\n",
    "plt.xlabel(r'r',fontsize=15)\n",
    "plt.ylabel('LE', fontsize=15)\n",
    "r_min=3.3  # range\n",
    "r_max=4.0\n",
    "x0=0.7    #initial condition\n",
    "\n",
    "\n",
    "# plots the lyapunov exponent\n",
    "plt.axis([r_min, r_max,-2, 1.0])\n",
    "plt.plot(rvalues, le,'b-',markersize=8)\n",
    "\n",
    "\n",
    "# Compute the Kolmogorov-Sinai entropy from the the Lyapunov Exponents\n",
    "\n",
    "pos = le[le>0]\n",
    "\n",
    "KS = sum(pos)\n",
    "print \"KS= \", KS"
   ]
  },
  {
   "cell_type": "code",
   "execution_count": 472,
   "metadata": {
    "collapsed": false
   },
   "outputs": [
    {
     "data": {
      "text/plain": [
       "[<matplotlib.lines.Line2D at 0x13ec13810>]"
      ]
     },
     "execution_count": 472,
     "metadata": {},
     "output_type": "execute_result"
    },
    {
     "data": {
      "image/png": "[encoded data removed]",
      "text/plain": [
       "<matplotlib.figure.Figure at 0x13ec1a450>"
      ]
     },
     "metadata": {},
     "output_type": "display_data"
    }
   ],
   "source": [
    "# plotting Lyapunov Exponent for specific r values where bifurcation points happen\n",
    "\n",
    "#the values of r where bifurcation points happen\n",
    "bif_rvalues = [3.0, 3.449489, 3.544090, 3.564407, 3.568750, 3.56969, 3.56989, 3.569934, 3.569943, 3.569945, 3.569945, 3.569945, 3.626553, 3.701640, 3.738172, 3.828427]\n",
    "\n",
    "\n",
    "bifr_len = len(bif_rvalues)\n",
    "time_S = [] # list of [r, timeseries]\n",
    "le2 = np.zeros(len(bif_rvalues))\n",
    "x0 = 0.8\n",
    "T = 100\n",
    "\n",
    "idx = 0\n",
    "for b in range (0,bifr_len):\n",
    "    tseries = logisticmap(x0, bif_rvalues[b], T)\n",
    "    time_S.append([bif_rvalues[b], tseries]) #save r and corresponding timeseries\n",
    "    tseries = 0\n",
    "\n",
    "    \n",
    "for l in range(0,len(time_S)):\n",
    "    le2[idx] = lyapunov_exponent(time_S[l][1], bif_rvalues[l])    \n",
    "    idx += 1\n",
    "    \n",
    "\n",
    "# plot settings\n",
    "plt.figure()\n",
    "plt.xlabel(r'r',fontsize=15)\n",
    "plt.ylabel('LE', fontsize=15)\n",
    "r_min=2.9  # range\n",
    "r_max=4.0\n",
    "\n",
    "\n",
    "\n",
    "# plots the lyapunov exponent\n",
    "plt.axis([r_min, r_max,-0.5, 0.5])\n",
    "plt.plot(bif_rvalues, le2,'b-',markersize=8)\n",
    "\n",
    "\n",
    "\n"
   ]
  },
  {
   "cell_type": "code",
   "execution_count": 473,
   "metadata": {
    "collapsed": false
   },
   "outputs": [
    {
     "name": "stdout",
     "output_type": "stream",
     "text": [
      "0.877196833631\n"
     ]
    }
   ],
   "source": [
    "# Compute the Kolmogorov-Sinai entropy from the the Lyapunov Exponents\n",
    "\n",
    "pos = le2[le2>0]\n",
    "\n",
    "KS = sum(pos)\n",
    "print KS\n"
   ]
  },
  {
   "cell_type": "code",
   "execution_count": 37,
   "metadata": {
    "collapsed": false
   },
   "outputs": [],
   "source": [
    "# compute the positive Lyapunov exponents according to Rosenstein et. al algorithm.\n",
    "#timeSeries = TS[100:250,1]\n",
    "#timeSeries = timeSeries.astype(\"float32\")\n",
    "\n",
    "#pos_lyap_exp = 0.0\n",
    "#pos_lyap_exp = lyap_r(data=timeSeries, emb_dim=10,tau=10)\n",
    "#print pos_lyap_exp\n",
    "\n",
    "#pylab.plot(lyap_spectrum)\n",
    "#pylab.show()\n"
   ]
  },
  {
   "cell_type": "code",
   "execution_count": 440,
   "metadata": {
    "collapsed": false
   },
   "outputs": [],
   "source": [
    "# compute the Lyapunov spectrum according to Eckmann et. al algorithm.\n",
    "#timeSeries = np.copy(TS[:,1])\n",
    "#timeSeries = TS[10:99950,1]\n",
    "#lyap_spectrum = lyap_e(data=timeSeries, emb_dim=10, tau=10)\n",
    "#print lyap_spectrum\n",
    "#pylab.plot(lyap_spectrum)\n",
    "#pylab.show()\n",
    "\n"
   ]
  },
  {
   "cell_type": "code",
   "execution_count": null,
   "metadata": {
    "collapsed": false
   },
   "outputs": [],
   "source": [
    "# computer the correlation dimension\n",
    "timeSeries = TS[500:1000,1]\n",
    "K2 = corr_dim(data=timeSeries,emb_dim=10)\n",
    "print K2"
   ]
  }
 ],
 "metadata": {
  "kernelspec": {
   "display_name": "Python 2",
   "language": "python",
   "name": "python2"
  },
  "language_info": {
   "codemirror_mode": {
    "name": "ipython",
    "version": 2
   },
   "file_extension": ".py",
   "mimetype": "text/x-python",
   "name": "python",
   "nbconvert_exporter": "python",
   "pygments_lexer": "ipython2",
   "version": "2.7.12"
  }
 },
 "nbformat": 4,
 "nbformat_minor": 0
}
